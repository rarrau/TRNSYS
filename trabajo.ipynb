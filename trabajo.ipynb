{
 "cells": [
  {
   "cell_type": "code",
   "execution_count": 1,
   "metadata": {},
   "outputs": [
    {
     "name": "stdout",
     "output_type": "stream",
     "text": [
      "Probability of rolling an odd number: 0.5027\n"
     ]
    }
   ],
   "source": [
    "import random\n",
    "\n",
    "# Function to roll a dice\n",
    "def roll_dice():\n",
    "    return random.randint(1, 6)\n",
    "\n",
    "# Number of simulations\n",
    "num_simulations = 10000\n",
    "\n",
    "# Count of odd numbers\n",
    "odd_count = 0\n",
    "\n",
    "# Simulate rolling the dice\n",
    "for _ in range(num_simulations):\n",
    "    if roll_dice() % 2 != 0:\n",
    "        odd_count += 1\n",
    "\n",
    "# Calculate probability\n",
    "probability_odd = odd_count / num_simulations\n",
    "\n",
    "print(f\"Probability of rolling an odd number: {probability_odd}\")"
   ]
  }
 ],
 "metadata": {
  "kernelspec": {
   "display_name": "Python 3",
   "language": "python",
   "name": "python3"
  },
  "language_info": {
   "codemirror_mode": {
    "name": "ipython",
    "version": 3
   },
   "file_extension": ".py",
   "mimetype": "text/x-python",
   "name": "python",
   "nbconvert_exporter": "python",
   "pygments_lexer": "ipython3",
   "version": "3.10.11"
  }
 },
 "nbformat": 4,
 "nbformat_minor": 2
}
